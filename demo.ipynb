{
 "cells": [
  {
   "cell_type": "markdown",
   "metadata": {},
   "source": [
    "## Scikit-Learn's Linear Regression with p-values for null hypothesis testing."
   ]
  },
  {
   "cell_type": "code",
   "execution_count": 1,
   "metadata": {},
   "outputs": [],
   "source": [
    "from sklearn.datasets import load_diabetes\n",
    "from sklearn.model_selection import train_test_split\n",
    "from sklearn.metrics import mean_squared_error"
   ]
  },
  {
   "cell_type": "code",
   "execution_count": 2,
   "metadata": {},
   "outputs": [],
   "source": [
    "X, y = load_diabetes(return_X_y=True)\n",
    "X_train, X_test, y_train, y_test = train_test_split(X, y, test_size = 0.2, random_state = 42)"
   ]
  },
  {
   "cell_type": "code",
   "execution_count": 3,
   "metadata": {},
   "outputs": [
    {
     "data": {
      "text/plain": [
       "PLinearRegression(copy_X=True, fit_intercept=True, n_jobs=1, normalize=False)"
      ]
     },
     "execution_count": 3,
     "metadata": {},
     "output_type": "execute_result"
    }
   ],
   "source": [
    "from p_linear_regression import PLinearRegression\n",
    "plr = PLinearRegression()\n",
    "plr.fit(X_train, y_train)"
   ]
  },
  {
   "cell_type": "code",
   "execution_count": 4,
   "metadata": {},
   "outputs": [
    {
     "data": {
      "text/plain": [
       "PLinearRegression(copy_X=True, fit_intercept=True, n_jobs=1, normalize=False)"
      ]
     },
     "execution_count": 4,
     "metadata": {},
     "output_type": "execute_result"
    }
   ],
   "source": [
    "plr"
   ]
  },
  {
   "cell_type": "code",
   "execution_count": 5,
   "metadata": {},
   "outputs": [],
   "source": [
    "y_pred = plr.predict(X_test)"
   ]
  },
  {
   "cell_type": "code",
   "execution_count": 6,
   "metadata": {},
   "outputs": [
    {
     "data": {
      "text/plain": [
       "2900.1732878832318"
      ]
     },
     "execution_count": 6,
     "metadata": {},
     "output_type": "execute_result"
    }
   ],
   "source": [
    "mean_squared_error(y_test, y_pred)"
   ]
  },
  {
   "cell_type": "code",
   "execution_count": 7,
   "metadata": {},
   "outputs": [
    {
     "data": {
      "text/html": [
       "<div>\n",
       "<style scoped>\n",
       "    .dataframe tbody tr th:only-of-type {\n",
       "        vertical-align: middle;\n",
       "    }\n",
       "\n",
       "    .dataframe tbody tr th {\n",
       "        vertical-align: top;\n",
       "    }\n",
       "\n",
       "    .dataframe thead th {\n",
       "        text-align: right;\n",
       "    }\n",
       "</style>\n",
       "<table border=\"1\" class=\"dataframe\">\n",
       "  <thead>\n",
       "    <tr style=\"text-align: right;\">\n",
       "      <th></th>\n",
       "      <th>coefficients</th>\n",
       "      <th>standard Errors</th>\n",
       "      <th>t statistic</th>\n",
       "      <th>p values</th>\n",
       "    </tr>\n",
       "  </thead>\n",
       "  <tbody>\n",
       "    <tr>\n",
       "      <th>0</th>\n",
       "      <td>37.900314</td>\n",
       "      <td>68.934688</td>\n",
       "      <td>0.549800</td>\n",
       "      <td>5.828141e-01</td>\n",
       "    </tr>\n",
       "    <tr>\n",
       "      <th>1</th>\n",
       "      <td>-241.966248</td>\n",
       "      <td>68.468840</td>\n",
       "      <td>-3.533962</td>\n",
       "      <td>4.654885e-04</td>\n",
       "    </tr>\n",
       "    <tr>\n",
       "      <th>2</th>\n",
       "      <td>542.425753</td>\n",
       "      <td>76.826436</td>\n",
       "      <td>7.060405</td>\n",
       "      <td>9.272139e-12</td>\n",
       "    </tr>\n",
       "    <tr>\n",
       "      <th>3</th>\n",
       "      <td>347.708305</td>\n",
       "      <td>71.252628</td>\n",
       "      <td>4.879937</td>\n",
       "      <td>1.628348e-06</td>\n",
       "    </tr>\n",
       "    <tr>\n",
       "      <th>4</th>\n",
       "      <td>-931.461261</td>\n",
       "      <td>450.477090</td>\n",
       "      <td>-2.067722</td>\n",
       "      <td>3.941565e-02</td>\n",
       "    </tr>\n",
       "    <tr>\n",
       "      <th>5</th>\n",
       "      <td>518.044055</td>\n",
       "      <td>363.566096</td>\n",
       "      <td>1.424896</td>\n",
       "      <td>1.550964e-01</td>\n",
       "    </tr>\n",
       "    <tr>\n",
       "      <th>6</th>\n",
       "      <td>163.403535</td>\n",
       "      <td>232.663793</td>\n",
       "      <td>0.702316</td>\n",
       "      <td>4.829584e-01</td>\n",
       "    </tr>\n",
       "    <tr>\n",
       "      <th>7</th>\n",
       "      <td>275.310038</td>\n",
       "      <td>185.125003</td>\n",
       "      <td>1.487158</td>\n",
       "      <td>1.378919e-01</td>\n",
       "    </tr>\n",
       "    <tr>\n",
       "      <th>8</th>\n",
       "      <td>736.189098</td>\n",
       "      <td>192.157851</td>\n",
       "      <td>3.831168</td>\n",
       "      <td>1.516492e-04</td>\n",
       "    </tr>\n",
       "    <tr>\n",
       "      <th>9</th>\n",
       "      <td>48.671125</td>\n",
       "      <td>73.305207</td>\n",
       "      <td>0.663952</td>\n",
       "      <td>5.071672e-01</td>\n",
       "    </tr>\n",
       "  </tbody>\n",
       "</table>\n",
       "</div>"
      ],
      "text/plain": [
       "   coefficients  standard Errors  t statistic      p values\n",
       "0     37.900314        68.934688     0.549800  5.828141e-01\n",
       "1   -241.966248        68.468840    -3.533962  4.654885e-04\n",
       "2    542.425753        76.826436     7.060405  9.272139e-12\n",
       "3    347.708305        71.252628     4.879937  1.628348e-06\n",
       "4   -931.461261       450.477090    -2.067722  3.941565e-02\n",
       "5    518.044055       363.566096     1.424896  1.550964e-01\n",
       "6    163.403535       232.663793     0.702316  4.829584e-01\n",
       "7    275.310038       185.125003     1.487158  1.378919e-01\n",
       "8    736.189098       192.157851     3.831168  1.516492e-04\n",
       "9     48.671125        73.305207     0.663952  5.071672e-01"
      ]
     },
     "execution_count": 7,
     "metadata": {},
     "output_type": "execute_result"
    }
   ],
   "source": [
    "plr.summary"
   ]
  }
 ],
 "metadata": {
  "kernelspec": {
   "display_name": "Python 3",
   "language": "python",
   "name": "python3"
  },
  "language_info": {
   "codemirror_mode": {
    "name": "ipython",
    "version": 3
   },
   "file_extension": ".py",
   "mimetype": "text/x-python",
   "name": "python",
   "nbconvert_exporter": "python",
   "pygments_lexer": "ipython3",
   "version": "3.6.5"
  }
 },
 "nbformat": 4,
 "nbformat_minor": 2
}
